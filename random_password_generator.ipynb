{
 "cells": [
  {
   "cell_type": "code",
   "execution_count": 3,
   "metadata": {},
   "outputs": [
    {
     "name": "stdout",
     "output_type": "stream",
     "text": [
      "mxCf5rE[5>JU8cc\n",
      "7>@AP@H3Lu>&^cW\n",
      "Q5nn!^OUYl5sQgu\n",
      "IGx^H%Vm({A#5az\n",
      "9h8D^RjlYOI1)Rn\n",
      "${u>%*v&m%AqO*#\n",
      "7j1ReZ{<BbaoCTe\n",
      "d^qpC]smJk7p3^o\n",
      "Kbep$mb$MV4ob(}\n",
      "2rmHjnOG^GbDVZ[\n"
     ]
    }
   ],
   "source": [
    "import random\n",
    "\n",
    "def generate_random_password(length): \n",
    "    # Create a list of characters to use for the password. \n",
    "    char_list = \"abcdefghijklmnopqrstuvwxyzABCDEFGHIJKLMNOPQRSTUVWXYZ0123456789!@#$%^&*(){}[]<>\"\n",
    "\n",
    "    pwd = \"\"\n",
    "\n",
    "    # Use a random number generator to select a character from the char_list and add it to the password. \n",
    "    for _ in range(length): \n",
    "        pwd += random.choice(char_list)\n",
    "\n",
    "    return pwd\n",
    "\n",
    "for i in range(10):\n",
    "    print(generate_random_password(15))"
   ]
  },
  {
   "cell_type": "code",
   "execution_count": null,
   "metadata": {},
   "outputs": [],
   "source": []
  }
 ],
 "metadata": {
  "kernelspec": {
   "display_name": "Python 3",
   "language": "python",
   "name": "python3"
  },
  "language_info": {
   "codemirror_mode": {
    "name": "ipython",
    "version": 3
   },
   "file_extension": ".py",
   "mimetype": "text/x-python",
   "name": "python",
   "nbconvert_exporter": "python",
   "pygments_lexer": "ipython3",
   "version": "3.7.1"
  }
 },
 "nbformat": 4,
 "nbformat_minor": 2
}
