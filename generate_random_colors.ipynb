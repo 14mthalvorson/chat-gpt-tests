{
 "cells": [
  {
   "cell_type": "code",
   "execution_count": 9,
   "metadata": {},
   "outputs": [
    {
     "name": "stdout",
     "output_type": "stream",
     "text": [
      "[(128, 228, 221), (175, 163, 59), (221, 95, 62), (39, 120, 3), (61, 173, 188), (121, 254, 241), (249, 54, 88), (21, 158, 43), (188, 115, 176), (122, 187, 174)]\n"
     ]
    }
   ],
   "source": [
    "import random\n",
    "\n",
    "def generate_random_colors(n): \n",
    "    # Create a list to store our generated colors. \n",
    "    colors = []\n",
    "\n",
    "    # Use a random number generator to choose an RGB color value and add it to the list. \n",
    "    for _ in range(n): \n",
    "        r = random.randint(0, 255) \n",
    "        g = random.randint(0, 255) \n",
    "        b = random.randint(0, 255) \n",
    "\n",
    "        color = (r, g, b)   # Convert the individual values into a tuple that represents an RGB color value.\n",
    "\n",
    "        colors.append(color)   # Append each newly generated color onto the list of colors\n",
    "\n",
    "    return colors\n",
    "\n",
    "print(generate_random_colors(10))"
   ]
  },
  {
   "cell_type": "code",
   "execution_count": 14,
   "metadata": {},
   "outputs": [],
   "source": [
    "def normalize_rgb(rgb_tuples): \n",
    "    # Create a new list to store the normalized RGB values. \n",
    "    normalized_rgb = []\n",
    "\n",
    "    # Iterate over each tuple in the input list and normalize its values:    \n",
    "    for r, g, b in rgb_tuples:        \n",
    "        # Divide each value by 255 to get a value between 0 and 1:        \n",
    "        nr = r / 255\n",
    "        ng = g / 255\n",
    "        nb = b / 255\n",
    "\n",
    "        # Append the normalized tuple onto our new list of RGB tuples:        \n",
    "        normalized_tuple = (nr, ng, nb)        \n",
    "        normalized_rgb.append(normalized_tuple)\n",
    "\n",
    "    return normalized_rgb"
   ]
  },
  {
   "cell_type": "code",
   "execution_count": 26,
   "metadata": {},
   "outputs": [
    {
     "data": {
      "image/png": "[encoded data removed]",
      "text/plain": [
       "<Figure size 1152x72 with 1 Axes>"
      ]
     },
     "metadata": {
      "needs_background": "light"
     },
     "output_type": "display_data"
    }
   ],
   "source": [
    "import matplotlib.pyplot as plt \n",
    "from matplotlib.colors import ListedColormap\n",
    "import numpy as np \n",
    "\n",
    " # The method takes in a list of RGB tuples and returns the actual colors:   \n",
    "def show_colors(rgb_tuples):    \n",
    "\n",
    "    # Create an array from our list of tuples and convert it to a colormap object:    \n",
    "    cmap = ListedColormap(np.array(rgb_tuples))  \n",
    "\n",
    "    # Generate a figure with the specified height and width:    \n",
    "    fig, ax = plt.subplots(figsize=(16, 1))  \n",
    "\n",
    "    # Use the colormap object to generate a heat map showing each color specified in our list of RGB tuples:     \n",
    "    ax.imshow(np.arange(len(rgb_tuples)).reshape(1, -1), cmap=cmap)  \n",
    "\n",
    "    # Hide all tick labels on both axes:     \n",
    "    ax.set_xticklabels([])\n",
    "    ax.set_yticklabels([])      \n",
    "\n",
    "# Show the figure with all its contents (the generated colors):\n",
    "show_colors(normalize_rgb(generate_random_colors(20)))\n",
    "plt.show()"
   ]
  },
  {
   "cell_type": "code",
   "execution_count": null,
   "metadata": {},
   "outputs": [],
   "source": []
  }
 ],
 "metadata": {
  "kernelspec": {
   "display_name": "Python 3",
   "language": "python",
   "name": "python3"
  },
  "language_info": {
   "codemirror_mode": {
    "name": "ipython",
    "version": 3
   },
   "file_extension": ".py",
   "mimetype": "text/x-python",
   "name": "python",
   "nbconvert_exporter": "python",
   "pygments_lexer": "ipython3",
   "version": "3.7.1"
  }
 },
 "nbformat": 4,
 "nbformat_minor": 2
}
